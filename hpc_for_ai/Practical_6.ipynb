{
 "cells": [
  {
   "cell_type": "markdown",
   "id": "9e435449-581c-42ee-b820-7003b111ca7d",
   "metadata": {},
   "source": [
    "High-performance and parallel computing for AI - Practical 6: Stochastic behaviour of rounding errors and stochastic rounding\n",
    "============================================================================================================================="
   ]
  },
  {
   "cell_type": "markdown",
   "id": "108b7bd1-4a6c-4a91-bc46-cd61b829cd15",
   "metadata": {},
   "source": [
    "IMPORTANT\n",
    "=========\n",
    "\n",
    "For these practicals we will be using a different `conda environment`. When opening a notebook or a terminal make sure you are using the **CuPy Kernel**!!!"
   ]
  },
  {
   "cell_type": "markdown",
   "id": "4f3739b8-3b7a-468f-b63f-1aff4a1a1ff5",
   "metadata": {},
   "source": [
    "Question 1 - One last dot product\n",
    "---------------------------------\n",
    "\n",
    "Let $a,b\\in\\mathbb{R}^n$ be defined by either of the following:\n",
    "\n",
    "* Option 1 - The entries of $a,b$ are i.i.d. uniform random variables in $[0,1]$.\n",
    "* Option 2 - $a_i = \\alpha$, $b_i=\\beta$ for all $i$ where $\\alpha,\\beta$ are independent uniform random variables in $[0,1]$ (i.e., $a,b$ are still random, but have constant entries).\n",
    "\n",
    "Using fp16 half-precision and round-to-nearest (the default in `chopping`), compute the dot product $a\\cdot b$ and its relative rounding error for both options above. Since the vectors are random, take the maximum error across $M=50$ realisations of the inputs. Plot the relative rounding error as a function of $n$ for $n=2^i$, $i=8,\\cdots,14$ in loglog scale.\n",
    "\n",
    "Repeat the experiment using stochastic rounding. How do the errors in round-to-nearest and stochastic rounding grow as a function of $n$?\n",
    "\n",
    "**Hint:** To activate stochastic rounding, create and use an option with stochastic rounding enabled:\n",
    "```python\n",
    "    op = Option(True)\n",
    "    op.set_format('h') # this is as usual\n",
    "    op.set_round(5) # 5 for stochastic rounding, 1 for round-to-nearest\n",
    "```\n",
    "\n",
    "**Hint:** Here is a useful code portion:"
   ]
  },
  {
   "cell_type": "code",
   "execution_count": 1,
   "id": "744d8fd0-3667-45d3-baf6-ea121256a6dd",
   "metadata": {},
   "outputs": [
    {
     "data": {
      "image/png": "[encoded data removed]",
      "text/plain": [
       "<Figure size 640x480 with 1 Axes>"
      ]
     },
     "metadata": {},
     "output_type": "display_data"
    }
   ],
   "source": [
    "import numpy as np\n",
    "from chopping import *\n",
    "import matplotlib.pyplot as plt\n",
    "\n",
    "op = Option(True)\n",
    "op.set_format('h')\n",
    "op.set_round(1)\n",
    "\n",
    "u = op.get_floating_point_parameters()[\"u\"]\n",
    "\n",
    "sr = Option(True)\n",
    "sr.set_format('h')\n",
    "sr.set_round(5)\n",
    "\n",
    "def dot(a,b,opt):\n",
    "    return (LPV(a, opt).T()@LPV(b, opt)).array()[0]\n",
    "\n",
    "def one_test(n):\n",
    "\n",
    "    # CHANGE THIS FUNCTION BY USING THE dot FUNCTION ABOVE\n",
    "\n",
    "    # option 1\n",
    "    ex1 = 1\n",
    "    rtn1 = 0\n",
    "    sr1 = 0\n",
    "\n",
    "    #option 2\n",
    "    ex2 = 1\n",
    "    rtn2 = 0\n",
    "    sr2 = 0\n",
    "    \n",
    "    return [abs(ex1-rtn1)/abs(ex1), abs(ex1-sr1)/abs(ex1), abs(ex2-rtn2)/abs(ex2), abs(ex2-sr2)/abs(ex2)]\n",
    "\n",
    "def test(n,M):\n",
    "    return np.max(np.array([one_test(n) for i in range(M)]),axis=0)\n",
    "\n",
    "NN = 2**np.arange(8,14)\n",
    "M = 50\n",
    "\n",
    "errs = np.array([test(n,M) for n in NN])\n",
    "\n",
    "\n",
    "labels = [\"RtN1\", \"SR1\", \"RtN2\", \"SR2\"]\n",
    "for i in range(4):\n",
    "    plt.loglog(NN, errs[:,i], '*', label=labels[i])\n",
    "\n",
    "plt.loglog(NN, u*NN, 'k--', label=\"$O(n)$\")\n",
    "plt.loglog(NN, u*np.sqrt(NN)/4, 'c--', label=r\"$O(\\sqrt{n})$\")\n",
    "\n",
    "plt.legend()\n",
    "plt.xlabel(\"$n$\")\n",
    "plt.ylabel(\"relative error\")\n",
    "plt.show()"
   ]
  },
  {
   "cell_type": "markdown",
   "id": "cf6ea007-299f-4ca0-aa73-a5a398880081",
   "metadata": {},
   "source": [
    "Question 2\n",
    "----------\n",
    "\n",
    "Using fp16 and round-to-nearest, evaluate the truncated harmonic sum\n",
    "\n",
    "$$ \\sum_{n=1}^N \\frac{1}{n} $$\n",
    "\n",
    "for $N=2^{6}$, $N=2^{10}$, $N=2^{14}$. What is the result? What happens if the same value is computed using double precision? What is the exact value of the sum for $N\\rightarrow \\infty$?\n",
    "\n",
    "Repeat the above with bf16 and round-to-nearest. What changed? Why?\n",
    "\n",
    "Repeat using fp16 and stochastic rounding. What changed? Why?\n",
    "\n",
    "Can you approximately predict at which value of $N$ will stagnation occur for round-to-neareset and fp16?\n",
    "\n",
    "Hint for the last question: 1) Approximate the sum with $\\log(N) + \\gamma + \\frac{1}{2N}$ where $\\gamma$ is the Euler-Mascheroni constant. 2) Under which condition stagnation occurs? You will need to know the roundoff unit of fp16 which is $2^{-11}$. 3) Use `scipy.optimize.root_scalar` to find an approximate $N$ at which stagnation occurs."
   ]
  },
  {
   "cell_type": "markdown",
   "id": "16476d6d-e0ab-417b-aae7-5a468378833a",
   "metadata": {},
   "source": [
    "Question 3 - Stochastic rounding and gradient descent\n",
    "-----------------------------------------------------\n",
    "\n",
    "**Important:** For this exercise you can modify your solution to Question 3 of Practical 5.\n",
    "\n",
    "Implement the gradient descent method in double precision for minimizing the 2D Rosenbrock function:\n",
    "\n",
    "$$ f(x,y) = (a-x)^2 + b(y-x^2)^2 $$\n",
    "\n",
    "where $a=\\pi-3$, $b=100$. This function has a unique global minimum at the point $(a, a^2)$. Set the learning rate to $10^{-3}$, the initial condition to zero and the maximum number of iterations to $2 \\times 10^4$.\n",
    "\n",
    "1- Copy and clean up your code from Question 3 of Practical 5 to only keep the pure bfloat16 reduced-precision scheme.\n",
    "\n",
    "2- Change the `chopping` `Option` rounding mode to stochastic rounding with `op.set_round(5)` and run the code again.\n",
    "\n",
    "In order to monitor the convergence behaviour of the above, compute the Euclidean norm of the gradient at the current iterate every $100$ iterations. Run both implementations and compare their gradient norms. Can you explain this convergence behaviour based on what we have learnt in the lectures?\n",
    "\n",
    "Finally, re-run the experiment by setting $a=1/8$. What do you observe? Why do you think this happens?\n",
    "\n",
    "**Some explanation:** The stochastic rounding evaluation of the gradient here does not have zero-mean error since the gradient is a nonlinear function. However, its bias will be of order $O(u^2)$ (you can try and prove this if you have time, simply Taylor-expand the gradient with respect to the rounding errors and take the expectation). Therefore, gradient descent will have the gradient norm (not its square) converge like $O(1/\\sqrt{T})$ until it reaches the RtN bias $O(u)$. For RtN it will stop, while for stochastic rounding it will behave like stochastic gradient descent and will keep converging until it reaches the SR bias $O(u^2)$ when it will stop converging."
   ]
  }
 ],
 "metadata": {
  "kernelspec": {
   "display_name": "CuPy Kernel",
   "language": "python",
   "name": "cupy"
  },
  "language_info": {
   "codemirror_mode": {
    "name": "ipython",
    "version": 3
   },
   "file_extension": ".py",
   "mimetype": "text/x-python",
   "name": "python",
   "nbconvert_exporter": "python",
   "pygments_lexer": "ipython3",
   "version": "3.12.10"
  }
 },
 "nbformat": 4,
 "nbformat_minor": 5
}
