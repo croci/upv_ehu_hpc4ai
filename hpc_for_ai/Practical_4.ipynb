{
 "cells": [
  {
   "cell_type": "markdown",
   "id": "6ec3111e-7fa5-427b-9ac2-1900b51b1bdf",
   "metadata": {},
   "source": [
    "High-performance and parallel computing for AI - Practical 4: Floating-point arithmetic and rounding error analysis\n",
    "==================================================================================================================="
   ]
  },
  {
   "cell_type": "markdown",
   "id": "75a6228d-246e-4e65-a335-d17a3a4689e0",
   "metadata": {},
   "source": [
    "IMPORTANT\n",
    "=========\n",
    "\n",
    "For these practicals we will be using a different `conda environment`. When opening a notebook or a terminal make sure you are using the **CuPy Kernel**!!!"
   ]
  },
  {
   "cell_type": "markdown",
   "id": "7e37fa6d-331d-4534-9bf4-1a8779fefb77",
   "metadata": {},
   "source": [
    "Premise\n",
    "=======\n",
    "\n",
    "Goliat's hardware has limited support for reduced-precision arithmetic and the Python software support is likewise incomplete (this is a problem which we would not have if we were to use C++ or Julia on more recent hardware). Therefore, for this practical we will be using a *floating-point emulator*, which is a software tool that entirely works in double precision, but automatically rounds numbers as if computations were done in a lower-precision format. Note that **emulation is slow**: you are essentially applying a nonlinear function at every operation you perform. Bottom line: avoid crazy computations.\n",
    "\n",
    "In particular, we will be using the `chopping` library. This is a software I wrote so:\n",
    "\n",
    "1- Hopefully there won't be any bugs, but there might be.\n",
    "\n",
    "2- Not all functionalities may be present.\n",
    "\n",
    "3- I should be able to fix most issues.\n",
    "\n",
    "**IMPORTANT:** The point of this practical is not to learn how to use the library, but simply to learn about rounding errors, reduced- and mixed-precision computations, and floating-point arithmetic."
   ]
  },
  {
   "cell_type": "markdown",
   "id": "7dd01642-a9af-4a31-81bb-1561071d9594",
   "metadata": {},
   "source": [
    "Tutorial 1\n",
    "----------\n",
    "\n",
    "Read the following code (including the comments) and try to understand how the `chopping` library works. You can open a console if you want (remember to use the CuPy kernel) to play with the library.\n",
    "\n",
    "First, we import numpy"
   ]
  },
  {
   "cell_type": "code",
   "execution_count": 1,
   "id": "7b8d27d7-0811-4f08-b6fd-2f3ab0dae0cb",
   "metadata": {},
   "outputs": [],
   "source": [
    "import numpy as np"
   ]
  },
  {
   "cell_type": "markdown",
   "id": "995ea499-6393-42e8-b931-4158ee3458c5",
   "metadata": {},
   "source": [
    "Second, we import the `chopping` library as usual"
   ]
  },
  {
   "cell_type": "code",
   "execution_count": 2,
   "id": "ec375376-4d4e-40e5-ae9f-3a085591058e",
   "metadata": {},
   "outputs": [],
   "source": [
    "from chopping import *"
   ]
  },
  {
   "cell_type": "markdown",
   "id": "47cbd55f-4e5f-4e72-ade2-024097bf9fd6",
   "metadata": {},
   "source": [
    "The first thing to do when using `chopping` is to define an Option variable which defines the floating-point format we want to use and the way numbers will be rounded."
   ]
  },
  {
   "cell_type": "code",
   "execution_count": 3,
   "id": "e1bd0ba4-4811-49c0-bb3c-e7e7e13e5e4d",
   "metadata": {},
   "outputs": [],
   "source": [
    "op = Option()\n",
    "# Set floating point format. Supported formats:\n",
    "# \"h\" for fp16, \"b\" for bf16, \"s\" for single, \"d\" for double.\n",
    "# Can also define custom formats, but this is for another day\n",
    "op.set_format(\"h\")\n",
    "# Set rounding mode. Supported modes:\n",
    "# 1 - Round-to-nearest\n",
    "# 2 - Round up\n",
    "# 3 - Round down\n",
    "# 4 - Round towards 0\n",
    "# 5 - Unbiased stochastic rounding\n",
    "# 6 - Biased stochastic rounding\n",
    "op.set_round(1)"
   ]
  },
  {
   "cell_type": "markdown",
   "id": "beca53af-bb3a-4f04-b19c-d1de40c3a4a2",
   "metadata": {},
   "source": [
    "You can obtain info about the floating point format chosen with"
   ]
  },
  {
   "cell_type": "code",
   "execution_count": 4,
   "id": "efa1fe1d-b71c-4398-b37d-346ea1da4d95",
   "metadata": {},
   "outputs": [
    {
     "name": "stdout",
     "output_type": "stream",
     "text": [
      "{'t': 11, 'u': 0.00048828125, 'emax': 15, 'emin': -14, 'emins': -24, 'xmax': 65504.0, 'xmin': 6.103515625e-05, 'xmins': 5.960464477539063e-08}\n"
     ]
    }
   ],
   "source": [
    "print(op.get_floating_point_parameters())"
   ]
  },
  {
   "cell_type": "markdown",
   "id": "2022eb85-2803-408a-8baa-1bef42e64141",
   "metadata": {},
   "source": [
    "The `chopping` library works via *operator overloading*. It implements a new array class, called `LPV` (it stand for \"low precision variable\") which looks like a very limited version of `numpy.ndarray`. This class requires an `Option` variable so that it is aware of how it should round things. When `LPV` arrays are used in arithmetic operations, the result is automatically rounded so that you do not need to worry about the rounding yourself.\n",
    "\n",
    "An `LPV` object is defined by an underlying numpy array and an Option: "
   ]
  },
  {
   "cell_type": "code",
   "execution_count": 5,
   "id": "08b72b54-d8c7-478c-ad33-c71bf53c2d77",
   "metadata": {},
   "outputs": [],
   "source": [
    "# Can only wrap numpy arrays\n",
    "A = np.random.randn(5,4)\n",
    "Ar = LPV(A, op)"
   ]
  },
  {
   "cell_type": "markdown",
   "id": "ef0c9a9a-2862-499b-a5ce-98da49b3432b",
   "metadata": {},
   "source": [
    "`Ar` is now an LPV variable:"
   ]
  },
  {
   "cell_type": "code",
   "execution_count": 6,
   "id": "94101f7f-ea57-44c1-926f-6eeaeceb47a5",
   "metadata": {},
   "outputs": [
    {
     "data": {
      "text/plain": [
       "chopping.LPV"
      ]
     },
     "execution_count": 6,
     "metadata": {},
     "output_type": "execute_result"
    }
   ],
   "source": [
    "type(Ar)"
   ]
  },
  {
   "cell_type": "markdown",
   "id": "ec3c3fe2-9c73-4c0d-86d4-e33c3f741dbb",
   "metadata": {},
   "source": [
    "basic arithmetic operations are supported"
   ]
  },
  {
   "cell_type": "code",
   "execution_count": 7,
   "id": "89d49b5c-1c40-450d-8666-c90ca6025f41",
   "metadata": {},
   "outputs": [
    {
     "name": "stdout",
     "output_type": "stream",
     "text": [
      "<class 'chopping.LPV'>\n",
      "Exact:\n",
      " [[-1.09235609 -0.6587883   2.15514362  0.72898289]\n",
      " [-0.37980895 -0.76137605 -0.33892428 -0.10008303]\n",
      " [-1.80111793 -0.63093532  1.26057337 -2.17724014]\n",
      " [-0.12459186  0.32682657 -1.98867638  0.55509363]\n",
      " [-0.88334936  0.629848    0.0753798   0.97994233]]\n",
      "Reduced-precision:\n",
      " LPV_array([[-1.09277344, -0.65869141,  2.15429688,  0.72900391],\n",
      "           [-0.37988281, -0.76123047, -0.33886719, -0.10009766],\n",
      "           [-1.80078125, -0.63085938,  1.26074219, -2.17773438],\n",
      "           [-0.12457275,  0.3269043 , -1.98828125,  0.55517578],\n",
      "           [-0.88330078,  0.62988281,  0.07537842,  0.97998047]])\n",
      "<class 'chopping.LPV'>\n",
      "Exact:\n",
      " [[ 6.80330393  0.11308294  3.5126608  -3.9604403   1.42681104]\n",
      " [ 0.11308294  0.8488346   0.95512563  0.41693843 -0.26767082]\n",
      " [ 3.5126608   0.95512563  9.971525   -3.69724641 -0.84492499]\n",
      " [-3.9604403   0.41693843 -3.69724641  4.38530142  0.70996293]\n",
      " [ 1.42681104 -0.26767082 -0.84492499  0.70996293  2.14298368]]\n",
      "Reduced-precision:\n",
      " LPV_array([[ 6.80078125,  0.11352539,  3.51367188, -3.95898438,  1.42773438],\n",
      "           [ 0.11352539,  0.84863281,  0.95507812,  0.41650391, -0.26757812],\n",
      "           [ 3.51367188,  0.95507812,  9.96875   , -3.69726562, -0.84667969],\n",
      "           [-3.95898438,  0.41650391, -3.69726562,  4.3828125 ,  0.70996094],\n",
      "           [ 1.42773438, -0.26757812, -0.84667969,  0.70996094,  2.14257812]])\n"
     ]
    }
   ],
   "source": [
    "C = (A + A)/2\n",
    "Cr = (Ar + Ar)/2\n",
    "\n",
    "print(type(Ar*Ar))\n",
    "\n",
    "print(\"Exact:\\n\", C)\n",
    "print(\"Reduced-precision:\\n\", Cr)\n",
    "\n",
    "C = C@C.T\n",
    "Cr = Cr@Cr.T() # for LPV arrays .T() is a function so you need to call it\n",
    "\n",
    "print(type(Cr))\n",
    "\n",
    "print(\"Exact:\\n\", C)\n",
    "print(\"Reduced-precision:\\n\", Cr)"
   ]
  },
  {
   "cell_type": "markdown",
   "id": "92a418b5-3430-4715-945b-d4c1fb329b23",
   "metadata": {},
   "source": [
    "However, **array slicing and numpy functions (including powers) are not supported**.\n",
    "\n",
    "Nevertheless, there is a workaround: The underlying numpy array can be extracted with"
   ]
  },
  {
   "cell_type": "code",
   "execution_count": 8,
   "id": "16087d88-65d2-4f40-a4a3-fe49fcf8992c",
   "metadata": {},
   "outputs": [
    {
     "name": "stdout",
     "output_type": "stream",
     "text": [
      "Underlying array:\n",
      " [[-1.09277344 -0.65869141  2.15429688  0.72900391]\n",
      " [-0.37988281 -0.76123047 -0.33886719 -0.10009766]\n",
      " [-1.80078125 -0.63085938  1.26074219 -2.17773438]\n",
      " [-0.12457275  0.3269043  -1.98828125  0.55517578]\n",
      " [-0.88330078  0.62988281  0.07537842  0.97998047]]\n"
     ]
    }
   ],
   "source": [
    "Ar_value = Ar.array()\n",
    "print(\"Underlying array:\\n\", Ar_value)"
   ]
  },
  {
   "cell_type": "markdown",
   "id": "48b744d6-cb70-4b9a-8457-03d6ede67cc3",
   "metadata": {},
   "source": [
    "And more complicated numpy functions can be computed as follows:"
   ]
  },
  {
   "cell_type": "code",
   "execution_count": 9,
   "id": "55a3cd86-2a87-4819-87a5-61038ee12f36",
   "metadata": {},
   "outputs": [],
   "source": [
    "# More complicated numpy functions are not supported, but there is a workaround:\n",
    "sinCr = LPV(np.sin(Cr.array()), Cr.option)\n",
    "# However, note that this means that the function is applied in double precision."
   ]
  },
  {
   "cell_type": "markdown",
   "id": "4bbe0adb-67ec-45e2-b3b9-db5387242c98",
   "metadata": {},
   "source": [
    "Precision and/or rounding mode mixing is NOT directly allowed:"
   ]
  },
  {
   "cell_type": "code",
   "execution_count": 10,
   "id": "0f877ff6-ee0d-4446-baec-051c583b60da",
   "metadata": {},
   "outputs": [
    {
     "name": "stdout",
     "output_type": "stream",
     "text": [
      "You shouldn't have done this!\n"
     ]
    }
   ],
   "source": [
    "op2 = Option()\n",
    "op2.set_format(\"b\")\n",
    "op2.set_round(5)\n",
    "\n",
    "Ar = LPV(A, op)\n",
    "Br = LPV(A, op2)\n",
    "\n",
    "try:\n",
    "    Ar + Br\n",
    "except ValueError:\n",
    "    print(\"You shouldn't have done this!\")"
   ]
  },
  {
   "cell_type": "markdown",
   "id": "b9990391-c4e4-4c1f-ab2c-0bdbf6d27a5e",
   "metadata": {},
   "source": [
    "However, you can still do it by casting one array to the other format"
   ]
  },
  {
   "cell_type": "code",
   "execution_count": 11,
   "id": "f9b548cf-ffac-4ee6-8be9-5532ccf6307b",
   "metadata": {},
   "outputs": [
    {
     "data": {
      "text/plain": [
       "LPV_array([[-2.171875  , -1.3125    ,  4.3125    ,  1.4609375 ],\n",
       "           [-0.7578125 , -1.515625  , -0.67578125, -0.20019531],\n",
       "           [-3.59375   , -1.2578125 ,  2.53125   , -4.34375   ],\n",
       "           [-0.24902344,  0.65625   , -3.96875   ,  1.109375  ],\n",
       "           [-1.765625  ,  1.2578125 ,  0.15039062,  1.9609375 ]])"
      ]
     },
     "execution_count": 11,
     "metadata": {},
     "output_type": "execute_result"
    }
   ],
   "source": [
    "LPV(Ar.array(), op2) + Br # performs the addition in bf16."
   ]
  },
  {
   "cell_type": "markdown",
   "id": "36dbddbf-a8ac-44d1-8a9a-78f57b3e1966",
   "metadata": {},
   "source": [
    "Finally. If really needed, can do the rounding by hand without using the LPV class:"
   ]
  },
  {
   "cell_type": "code",
   "execution_count": 12,
   "id": "168a0768-7f87-4b24-b3b3-636ea3d82437",
   "metadata": {},
   "outputs": [
    {
     "name": "stdout",
     "output_type": "stream",
     "text": [
      "0.0005413414796065511\n",
      "0.000967653589793116\n"
     ]
    }
   ],
   "source": [
    "a = np.random.randn(10)\n",
    "b = a.copy()\n",
    "chop(b, op) # rounding done in-place\n",
    "print(np.linalg.norm(a-b))\n",
    "\n",
    "# chop also works with non-numpy inputs (unlike LPV) and in this case it returns a copy\n",
    "a = np.pi\n",
    "b = chop(a, op)\n",
    "print(abs(a-b))\n",
    "\n",
    "# If you use scalars and want to do things by hand you can simply define\n",
    "c = lambda x : chop(x, op)\n",
    "b = c(c(3)*c(np.pi))"
   ]
  },
  {
   "cell_type": "markdown",
   "id": "a5ba6fcd-a88d-490a-a41d-0a9a7fdad46d",
   "metadata": {},
   "source": [
    "Practical 2 - Rounding error behaviour\n",
    "--------------------------------------\n",
    "\n",
    "** **Cancellation** **\n",
    "\n",
    "In this excercise we will investigate the phenomenon of cancellation. Cancellation is what happens when two nearly equal numbers are subtracted and it is often, but not always, a bad thing.\n",
    "\n",
    "Consider the quantity\n",
    "\n",
    "$$f(x) = \\frac{1-\\cos(x)}{x^2}$$.\n",
    "\n",
    "If we evaluate it in single precision at $x=3 \\times 10^{-4}$ we obtain: "
   ]
  },
  {
   "cell_type": "code",
   "execution_count": 13,
   "id": "7c9ff5d8-df37-4fb3-94c3-7ccaebb24670",
   "metadata": {},
   "outputs": [
    {
     "name": "stdout",
     "output_type": "stream",
     "text": [
      "Exact: [0.5] \n",
      "Single precision: [0.66227376]\n"
     ]
    }
   ],
   "source": [
    "import numpy as np\n",
    "from chopping import *\n",
    "\n",
    "op = Option()\n",
    "op.set_format('s')\n",
    "\n",
    "def f(x):\n",
    "    c = LPV(np.cos(x.array()), x.option) if isinstance(x,LPV) else np.cos(x)\n",
    "    return (1-c)/(x*x) # pow is not implemented so need to do x**2 by hand\n",
    "\n",
    "y = np.array([3e-4])\n",
    "x = LPV(y, op)\n",
    "\n",
    "print(\"Exact:\", f(y), \"\\nSingle precision:\", f(x).array())"
   ]
  },
  {
   "cell_type": "markdown",
   "id": "3983a436-fcf7-4014-b630-2b885d2d0e21",
   "metadata": {},
   "source": [
    "Note that $0\\leq f(x) \\leq 0.5$ for all $x$ so the single precision result is super wrong. What is happening?\n",
    "\n",
    "Here, the exact value of $\\cos(x)$ is very close to $1$, namely:\n",
    "\n",
    "$$\\cos(x) = 0.99999995500000033749999898750000162723214122991071539519074620460454744421,$$\n",
    "\n",
    "while $1 - \\cos(x)$ is given by\n",
    "\n",
    "$$1 - \\cos(x) = 4.499999966250000101249999837276785877008928460480925379539545255579 \\times 10^{-8}.$$\n",
    "\n",
    "Since $\\cos(x)$ is of order $1$, rounding errors will be of order $1\\times u$, which for single precision is roughly $2^{-24}=6\\times 10^{-8}$. Hence, rounding errors are of the same order of $1 - \\cos(x)$ and we cannot trust that our computations will approximate the numerator correctly (essentially we have almost no digits of accuracy). If we weren't dividing by $x^2$ this would not be a problem since we would notice that what we obtained is zero to within the machine precision. However, we do divide by $x^2$ which is extremely small and amplifies the error in the numerator.\n",
    "\n",
    "This phenomenon is called *catastrophic error cancellation*. It occurs when terms which are really close to each other are subtracted and the result is fed to a routine that amplifies the resulting error."
   ]
  },
  {
   "cell_type": "markdown",
   "id": "c2f97988-6e56-4529-9bab-7ef83318e8e9",
   "metadata": {},
   "source": [
    "Question 1\n",
    "----------\n",
    "\n",
    "Use the relation $\\cos(x) = 1 - 2\\sin^2(x/2)$ to rewrite the function $f(x)$. Re-evaluate it in single precision. The result is now correct. Why?\n",
    "\n",
    "What happens if you evaluate the original $f(x)$ at $x=10^{-4}$? This is also the wrong answer. Can you (handwavily) explain why you obtain this value? \n",
    "\n",
    "(Theoretical) Let $a,b\\in \\mathbb{R}$ and assume we compute instead $\\hat{a}=a(1+\\delta_a)$, $\\hat{b}=b(1+\\delta_b)$, where $|\\delta_a|,|\\delta_b| \\leq u$. Let $x = a - b$ and $\\hat{x} = \\hat{a} - \\hat{b}$. Can you provide an upper bound to the relative (forward) error $|x - \\hat{x}|/|x|$ in terms of $u$, $a$, and $b$? Assuming that this bound should be in the form $\\kappa(a,b)u$ what is the value of $\\kappa(a,b)$? Taking $\\kappa(a,b)$ to be the *condition number* of the computation of $x$ what can you tell about the conditioning of this computation when $a$ is close to $b$ and $|a|\\gg 0$?"
   ]
  },
  {
   "cell_type": "markdown",
   "id": "540aef08-6495-43b5-a880-ef7d091b8f18",
   "metadata": {},
   "source": [
    "Question 2\n",
    "----------\n",
    "\n",
    "Consider the following code:"
   ]
  },
  {
   "cell_type": "code",
   "execution_count": 14,
   "id": "37923fb4-b997-4772-a90a-a16b23c2dd16",
   "metadata": {},
   "outputs": [
    {
     "name": "stdout",
     "output_type": "stream",
     "text": [
      "Initial x: [100.    0.9] \n",
      "After applying the identity function: [1. 0.]\n"
     ]
    },
    {
     "data": {
      "image/png": "[encoded data removed]",
      "text/plain": [
       "<Figure size 640x480 with 1 Axes>"
      ]
     },
     "metadata": {},
     "output_type": "display_data"
    }
   ],
   "source": [
    "import numpy as np\n",
    "from chopping import *\n",
    "import matplotlib.pyplot as plt\n",
    "\n",
    "op = Option()\n",
    "op.set_format('s')\n",
    "\n",
    "x = np.array([100., 0.9])\n",
    "\n",
    "f = lambda x : LPV(np.sqrt(x.array()), op) # computing the sqrt\n",
    "\n",
    "N = 50\n",
    "\n",
    "def identity(x):\n",
    "    x = LPV(x, op)\n",
    "    for i in range(N):\n",
    "        x = f(x) # takes the square root\n",
    "\n",
    "    for i in range(N):\n",
    "        x = x*x # squares the result\n",
    "\n",
    "    return x.array()\n",
    "\n",
    "result = identity(x)\n",
    "print(\"Initial x:\", x, \"\\nAfter applying the identity function:\", result)\n",
    "\n",
    "x = np.linspace(0,10,1000)\n",
    "res = identity(x)\n",
    "plt.xlabel('$x$')\n",
    "plt.ylabel('identity$(x)$')\n",
    "plt.plot(x,res, 'r-')\n",
    "plt.show()"
   ]
  },
  {
   "cell_type": "markdown",
   "id": "3f68c468-7ec3-4c22-bd12-ebf0f08a7964",
   "metadata": {},
   "source": [
    "**Question:** Can you explain what is happening? Think about values of $x>1$ first and then about $x<1$. If you spend too much time on this move on to the next problem and come back to it."
   ]
  },
  {
   "cell_type": "markdown",
   "id": "c7a0b881-dba4-4120-b4a4-3341e39d06e4",
   "metadata": {},
   "source": [
    "Question 3\n",
    "----------\n",
    "\n",
    "Using the dot product rounding error bound that we have seen in the lectures, derive the following rounding error bound for matrix-vector products:\n",
    "\n",
    "$$\\widehat{Ab}=(A+\\Delta A)b,\\quad\\text{where}\\quad |\\Delta A| \\leq cnu|A|$$.\n",
    "\n",
    "Let $\\hat{x} = \\widehat{Ab}$ and $x = Ab$. Use the above to derive an upper bound for the forward error $|\\hat{x} - x|$ (if you are not a theoretical person you can skip this part).\n",
    "\n",
    "Let $b$ be a Gaussian vector of length $n$ and let $A$ be a square Gaussian matrix of size $n$. For $n=2^i$ and for $i=6,\\dots,11$, evaluate $x$ in half precision using the bfloat16 format and compute the resulting error in the infinity norm. Plot this error against $n$ in a loglog plot and compare it with the quantity $un\\lVert x \\rVert_\\infty$ ($u=2^{-8}$ for bfloat16). Does the experiment match with what expected from the theory?"
   ]
  },
  {
   "cell_type": "code",
   "execution_count": 15,
   "id": "0c17e844-959e-4f83-9bad-37b373dce5dc",
   "metadata": {},
   "outputs": [],
   "source": [
    "import numpy as np\n",
    "from chopping import *\n",
    "import matplotlib.pyplot as plt\n",
    "\n",
    "op = Option(True)\n",
    "op.set_format('b')\n",
    "\n",
    "err = []\n",
    "\n",
    "NN = 2**np.arange(6,12)\n",
    "\n",
    "u = 2.**-8\n",
    "bound = u*NN*abs(x).max()\n",
    "\n",
    "## The rest is up to you. Some plotting utilities are below.\n",
    "\n",
    "#plt.loglog(NN, err, 'r*', label='rounding error')\n",
    "#plt.loglog(NN, bound, 'k--', label='upper bound')\n",
    "#plt.xlabel('$n$')\n",
    "#plt.ylabel('error')\n",
    "#plt.legend()\n",
    "#plt.show()"
   ]
  },
  {
   "cell_type": "markdown",
   "id": "c73328a7-8ca9-4919-8af8-7ede1e91ed75",
   "metadata": {},
   "source": [
    "Question 4 - Compensated summation\n",
    "----------------------------------\n",
    "\n",
    "Let $a\\in\\mathbb{R}^n$ be a vector such that $a_i = \\frac{2i}{n}$ for $i=1,\\dots,n$. For $n=1000$ compute $s = \\sum_{i=1}^n a_i$ by looping over each entry using bfloat16 half-precision. Let $\\hat{s}$ be the computed bfloat16 value and compute the error $|\\hat{s} - s|$ by computing the exact value of $s$.\n",
    "\n",
    "Now, perform the half precision calculation again using the following algorithm, which is a version of **Kahan's compensated summation**: \n",
    "\n",
    "```python\n",
    "s = 0; e = 0\n",
    "for i in range(n):\n",
    "    temp = s\n",
    "    y = a[i] + e\n",
    "    s = temp + y\n",
    "    e = (temp - s) + y\n",
    "```\n",
    "\n",
    "Compute the error between this new $\\hat{s}$ and $s$, i.e., $|s - \\hat{s}|$. Is the error larger or smaller? Compare this error with the value of $e$. What do you observe? What do you think $e$ may mean?\n",
    "\n",
    "Redo the exercise by varying $n$ and plotting (in loglog scale) the errors for the two algorithms for $n=2^i$ for $i=8,\\dots,16$. How do the errors behave with respect to $n$ for the two algorithms?\n",
    "\n",
    "Compute the FLOPs and memory cost of the standard VS compensated summation. Considering the FLOP and memory cost and the resulting accuracy, what are the pros and cons of using the compensated summation?"
   ]
  },
  {
   "cell_type": "markdown",
   "id": "622bfd69-2d4a-413f-9515-d16ee76f0770",
   "metadata": {},
   "source": [
    "Question 5 - Floating point parameters and Overflow\n",
    "---------------------------------------------------\n",
    "\n",
    "Define an fp16 half-precision option:\n",
    "\n",
    "```python\n",
    "op = Option(True)\n",
    "op.set_format('h')\n",
    "```\n",
    "Then call `op.get_floating_point_parameters()`. Read the [fp16 wikipedia page](https://en.wikipedia.org/wiki/Half-precision_floating-point_format#IEEE_754_half-precision_binary_floating-point_format:_binary16) and see if you understand what these parameters mean.  \n",
    "\n",
    "\n",
    "Let $a\\in\\mathbb{R}^n$ be a vector such that $a_i = 2i$ for $i=1,\\dots,n$ and consider again $s$ to be the sum of all of its entries. Assume you are computing $s$ in float16 half precision and obtain $\\hat{s}$. What is the smallest value of $n$ which makes the calculation overflow? Estimate this value theoretically and demonstrate that your calculations are correct via a numerical experiment."
   ]
  }
 ],
 "metadata": {
  "kernelspec": {
   "display_name": "CuPy Kernel",
   "language": "python",
   "name": "cupy"
  },
  "language_info": {
   "codemirror_mode": {
    "name": "ipython",
    "version": 3
   },
   "file_extension": ".py",
   "mimetype": "text/x-python",
   "name": "python",
   "nbconvert_exporter": "python",
   "pygments_lexer": "ipython3",
   "version": "3.12.10"
  }
 },
 "nbformat": 4,
 "nbformat_minor": 5
}
