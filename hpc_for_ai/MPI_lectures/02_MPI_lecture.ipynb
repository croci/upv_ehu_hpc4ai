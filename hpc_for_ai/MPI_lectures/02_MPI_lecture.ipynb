{
 "cells": [
  {
   "cell_type": "markdown",
   "id": "0a126860-7b52-481a-b728-7d3ed5b75807",
   "metadata": {},
   "source": [
    "# Lecture 7: MPI communication\n",
    "\n",
    "## NOTES\n",
    "\n",
    "* For these practicals we will be using a different `conda environment`. When opening a notebook or a terminal make sure you are using the **CuPy Kernel**!!!\n",
    "* MPI code must typically be invoked from the command line and not from a notebook. However, for this lectures I will be using a workaround. Both approaches are explained in the first MPI practical.\n",
    "* mpi4py documentation [here](https://mpi4py.readthedocs.io/en/stable/index.html)."
   ]
  },
  {
   "cell_type": "markdown",
   "id": "9ddc7e8b-312a-4c43-9e9f-2feed7eb015d",
   "metadata": {},
   "source": [
    "## Two important mpi4py-specific notes\n",
    "\n",
    "**1) All communication functions are member functions of a MPI communicator.**\n",
    "\n",
    "To see the complete list of available functions, read the Communicator class API [here](https://mpi4py.readthedocs.io/en/stable/reference/mpi4py.MPI.Comm.html#mpi4py.MPI.Comm).\n",
    "\n",
    "Example:\n",
    "\n",
    "```python\n",
    "    from mpi4py import MPI\n",
    "    comm = MPI.COMM_WORLD\n",
    "\n",
    "    comm.barrier() # Collective communication: waits for all ranks to call this. Very useful for synchronization.\n",
    "```\n",
    "\n",
    "**2) Lower case functions are for Python objects. Upper case functions for data buffers (e.g., arrays).**\n",
    "\n",
    "**Note:** Buffer functions are much faster since they use C under the hood. However, they are slightly harder to use. Lower case function use Python [pickle](https://docs.python.org/3/library/pickle.html) instead.\n",
    "\n",
    "Examples: `WORLD_COMM.send` VS `WORLD_COMM.Send`. See more below."
   ]
  },
  {
   "cell_type": "markdown",
   "id": "fcababe2-a072-45d3-9dec-8f6c2d9dad16",
   "metadata": {},
   "source": [
    "## Point-to-point communication\n",
    "\n",
    "Point-to-point means from one rank to one rank.\n",
    "\n",
    "The basic mpi4py functions for point-to-point communication are:\n",
    "\n",
    "* For sending: `send` (object version), `Send` (buffer version).\n",
    "* For receiving: `recv` (object version), `Recv` (buffer version).\n",
    "\n",
    "**Note:** You should use matching calls (e.g., object send with object receive).\n",
    "\n",
    "Their typical syntax is:\n",
    "\n",
    "```python\n",
    "    # Object version\n",
    "    comm.send(object_to_send, destination_rank, tag)\n",
    "    sent_object = comm.recv(source_rank, tag)\n",
    "\n",
    "    # Buffer version (faster, typially for numpy arrays)\n",
    "    comm.Send(buffer_to_send, destination_rank, tag)\n",
    "    comm.Recv(destination_buffer, source_rank, tag) # destination_buffer will be overwritten\n",
    "```\n",
    "\n",
    "* `destination_rank` is the rank the message is sent to.\n",
    "* `source rank` is the rank the message is coming from.\n",
    "* `buffer_to_send` and `destination_buffer` are numpy arrays. The former is the message to send. The latter is the destination buffer which will be overwritten. **Note:** The two buffers must be the same type and size!\n",
    "* `sent_object` is where the message is stored after reception in the object version.\n",
    "* `tag` is an optional integer which identifies the specific communication. It is recommended to use it if you are sending/receiving multiple messages so that processes can distinguish which message is being sent/received. This is more useful for non-blocking communication, but I am providing it for completeness.\n",
    "\n",
    "### Examples\n",
    "\n",
    "**Sending/receiving objects**"
   ]
  },
  {
   "cell_type": "code",
   "execution_count": 1,
   "id": "fb312c6e-1bf4-47d6-ae9a-79d97c2b113f",
   "metadata": {
    "collapsed": true,
    "jupyter": {
     "outputs_hidden": true,
     "source_hidden": true
    }
   },
   "outputs": [
    {
     "name": "stdout",
     "output_type": "stream",
     "text": [
      "Overwriting temp.py\n"
     ]
    }
   ],
   "source": [
    "%%writefile temp.py\n",
    "from mpi4py import MPI\n",
    "\n",
    "comm = MPI.COMM_WORLD\n",
    "rank = comm.Get_rank()\n",
    "\n",
    "# We can use if statements to make different ranks do different things!\n",
    "\n",
    "# From rank 0 to rank 1\n",
    "if rank == 0:\n",
    "    data = {'a': 7, 'b': 3.14}\n",
    "    comm.send(data, dest=1, tag=11)\n",
    "    print(\"Rank %d.\" % rank, \"Data being sent:\", data, flush=True)\n",
    "elif rank == 1:\n",
    "    data = comm.recv(source=0, tag=11)\n",
    "    print(\"Rank %d.\" % rank, \"Received data:  \", data, flush=True)\n",
    "\n",
    "# The other way around\n",
    "if rank == 1:\n",
    "    data['c'] = 47\n",
    "    comm.send(data, dest=0, tag=12)\n",
    "    print(\"Rank %d.\" % rank, \"Data being sent:\", data, flush=True)\n",
    "elif rank == 0:\n",
    "    data = comm.recv(source=1, tag=12)\n",
    "    print(\"Rank %d.\" % rank, \"Received data:  \", data, flush=True)\n"
   ]
  },
  {
   "cell_type": "code",
   "execution_count": 2,
   "id": "4bb454f1-1222-46f8-9082-a2093e547ec1",
   "metadata": {
    "collapsed": true,
    "jupyter": {
     "outputs_hidden": true,
     "source_hidden": true
    }
   },
   "outputs": [
    {
     "name": "stdout",
     "output_type": "stream",
     "text": [
      "Rank 0. Data being sent: {'a': 7, 'b': 3.14}\n",
      "Rank 1. Received data:   {'a': 7, 'b': 3.14}\n",
      "Rank 1. Data being sent: {'a': 7, 'b': 3.14, 'c': 47}\n",
      "Rank 0. Received data:   {'a': 7, 'b': 3.14, 'c': 47}\n"
     ]
    }
   ],
   "source": [
    "!mpiexec -n 2 python3 temp.py"
   ]
  },
  {
   "cell_type": "code",
   "execution_count": 3,
   "id": "9743807b-63d7-480b-a53d-1c7bfe684a43",
   "metadata": {
    "collapsed": true,
    "jupyter": {
     "outputs_hidden": true,
     "source_hidden": true
    }
   },
   "outputs": [
    {
     "name": "stdout",
     "output_type": "stream",
     "text": [
      "Overwriting temp.py\n"
     ]
    }
   ],
   "source": [
    "%%writefile temp.py\n",
    "from mpi4py import MPI\n",
    "import numpy\n",
    "\n",
    "comm = MPI.COMM_WORLD\n",
    "rank = comm.Get_rank()\n",
    "\n",
    "if rank == 0:\n",
    "    data = numpy.arange(4, dtype=numpy.int64)\n",
    "    comm.Send(data, dest=1, tag=13)\n",
    "    print(\"Rank %d.\" % rank, \"Array being sent:\", data, flush=True)\n",
    "elif rank == 1:\n",
    "    data = numpy.empty(4, dtype=numpy.int64) # IMPORTANT: must be the same data type!\n",
    "    comm.Recv(data, source=0, tag=13)\n",
    "    print(\"Rank %d.\" % rank, \"Received array:  \", data, flush=True)\n"
   ]
  },
  {
   "cell_type": "code",
   "execution_count": 4,
   "id": "37b58409-2548-4bdf-816c-d9f4fe86bfc0",
   "metadata": {
    "collapsed": true,
    "jupyter": {
     "outputs_hidden": true,
     "source_hidden": true
    }
   },
   "outputs": [
    {
     "name": "stdout",
     "output_type": "stream",
     "text": [
      "Rank 0. Array being sent: [0 1 2 3]\n",
      "Rank 1. Received array:   [0 1 2 3]\n"
     ]
    }
   ],
   "source": [
    "!mpiexec -n 2 python3 temp.py"
   ]
  },
  {
   "cell_type": "markdown",
   "id": "87aceaf8-3c60-4239-bcc4-5f486bf51cc4",
   "metadata": {},
   "source": [
    "### Common mistakes\n",
    "\n",
    "What is wrong with the following codes?\n",
    "\n",
    "**Snippet 1**"
   ]
  },
  {
   "cell_type": "code",
   "execution_count": 5,
   "id": "c6a9c24e-d186-4282-b732-89596c65f3ba",
   "metadata": {
    "collapsed": true,
    "jupyter": {
     "outputs_hidden": true,
     "source_hidden": true
    }
   },
   "outputs": [
    {
     "name": "stdout",
     "output_type": "stream",
     "text": [
      "Overwriting temp.py\n"
     ]
    }
   ],
   "source": [
    "%%writefile temp.py\n",
    "from mpi4py import MPI\n",
    "\n",
    "comm = MPI.COMM_WORLD\n",
    "rank = comm.Get_rank()\n",
    "\n",
    "# We can use if statements to make different ranks do different things!\n",
    "\n",
    "# From rank 0 to rank 1\n",
    "if rank == 0:\n",
    "    data = {'a': 7, 'b': 3.14}\n",
    "    comm.send(data, dest=1, tag=11)\n",
    "elif rank == 1:\n",
    "    data = comm.recv(source=0, tag=11)\n",
    "\n",
    "print(\"Rank %d.\" % rank, \"I have this datum:\", data, flush=True)"
   ]
  },
  {
   "cell_type": "code",
   "execution_count": 6,
   "id": "8569fdc8-e234-4b7e-b794-f3598a059ffa",
   "metadata": {
    "collapsed": true,
    "jupyter": {
     "outputs_hidden": true,
     "source_hidden": true
    }
   },
   "outputs": [],
   "source": [
    "#!mpiexec -n 3 python3 temp.py"
   ]
  },
  {
   "cell_type": "markdown",
   "id": "6837aa1c-babd-431b-9b35-b22f01cfa2d1",
   "metadata": {},
   "source": [
    "`data` was never defined on Rank 2! This is an easy fix:"
   ]
  },
  {
   "cell_type": "code",
   "execution_count": 7,
   "id": "93f27f62-be59-4f85-9c80-040792e8f8ea",
   "metadata": {
    "collapsed": true,
    "jupyter": {
     "outputs_hidden": true,
     "source_hidden": true
    }
   },
   "outputs": [
    {
     "name": "stdout",
     "output_type": "stream",
     "text": [
      "Overwriting temp.py\n"
     ]
    }
   ],
   "source": [
    "%%writefile temp.py\n",
    "from mpi4py import MPI\n",
    "\n",
    "comm = MPI.COMM_WORLD\n",
    "rank = comm.Get_rank()\n",
    "\n",
    "# We can use if statements to make different ranks do different things!\n",
    "\n",
    "data = None # Now data is a well-defined variable on all ranks!\n",
    "\n",
    "# From rank 0 to rank 1\n",
    "if rank == 0:\n",
    "    data = {'a': 7, 'b': 3.14}\n",
    "    comm.send(data, dest=1, tag=11)\n",
    "elif rank == 1:\n",
    "    data = comm.recv(source=0, tag=11)\n",
    "\n",
    "print(\"Rank %d.\" % rank, \"I have this datum:\", data, flush=True)"
   ]
  },
  {
   "cell_type": "code",
   "execution_count": 8,
   "id": "9337d636-3627-4d44-a852-139eea6d1557",
   "metadata": {
    "collapsed": true,
    "jupyter": {
     "outputs_hidden": true,
     "source_hidden": true
    }
   },
   "outputs": [
    {
     "name": "stdout",
     "output_type": "stream",
     "text": [
      "Rank 2. I have this datum: None\n",
      "Rank 0. I have this datum: {'a': 7, 'b': 3.14}\n",
      "Rank 1. I have this datum: {'a': 7, 'b': 3.14}\n"
     ]
    }
   ],
   "source": [
    "!mpiexec -n 3 python3 temp.py"
   ]
  },
  {
   "cell_type": "markdown",
   "id": "abae8bc3-e480-4223-904a-6ba535830967",
   "metadata": {},
   "source": [
    "**Snippet 2 - DEADLOCK**"
   ]
  },
  {
   "cell_type": "code",
   "execution_count": 9,
   "id": "92ee1fc2-e0f6-468a-b2c3-ea0ef685c97b",
   "metadata": {
    "collapsed": true,
    "jupyter": {
     "outputs_hidden": true,
     "source_hidden": true
    }
   },
   "outputs": [
    {
     "name": "stdout",
     "output_type": "stream",
     "text": [
      "Overwriting temp.py\n"
     ]
    }
   ],
   "source": [
    "%%writefile temp.py\n",
    "from mpi4py import MPI\n",
    "\n",
    "comm = MPI.COMM_WORLD\n",
    "rank = comm.Get_rank()\n",
    "\n",
    "# We can use if statements to make different ranks do different things!\n",
    "\n",
    "data = None # Now data is a well-defined variable on all ranks!\n",
    "\n",
    "# From rank 0 to rank 1\n",
    "if rank == 0:\n",
    "    data = {'a': 7, 'b': 3.14}\n",
    "    comm.send(data, dest=1, tag=11)\n",
    "elif rank == 1:\n",
    "    data = comm.recv(source=1, tag=11) # WRONG SOURCE! It will wait forever! \n",
    "\n",
    "print(\"Rank %d.\" % rank, \"I have this datum:\", data, flush=True)"
   ]
  },
  {
   "cell_type": "code",
   "execution_count": 10,
   "id": "b77d76f8-162e-4b41-88ce-80e88ce06e4d",
   "metadata": {
    "collapsed": true,
    "jupyter": {
     "outputs_hidden": true,
     "source_hidden": true
    }
   },
   "outputs": [],
   "source": [
    "#!mpiexec -n 2 python3 temp.py"
   ]
  },
  {
   "cell_type": "markdown",
   "id": "135a54f3-af66-4922-b700-ef675bba7256",
   "metadata": {},
   "source": [
    "**Snippet 3 - Wrong data type**"
   ]
  },
  {
   "cell_type": "code",
   "execution_count": 11,
   "id": "01004d8e-6e62-4df9-b591-65130320b9d9",
   "metadata": {
    "collapsed": true,
    "jupyter": {
     "outputs_hidden": true,
     "source_hidden": true
    }
   },
   "outputs": [
    {
     "name": "stdout",
     "output_type": "stream",
     "text": [
      "Overwriting temp.py\n"
     ]
    }
   ],
   "source": [
    "%%writefile temp.py\n",
    "from mpi4py import MPI\n",
    "import numpy\n",
    "\n",
    "comm = MPI.COMM_WORLD\n",
    "rank = comm.Get_rank()\n",
    "\n",
    "if rank == 0:\n",
    "    data = numpy.arange(4, dtype=numpy.int32)\n",
    "    comm.Send(data, dest=1, tag=13)\n",
    "    print(\"Rank %d.\" % rank, \"Array being sent:\", data, flush=True)\n",
    "elif rank == 1:\n",
    "    # Super wrong! No error will be thrown so a bug that is hard to catch!!\n",
    "    data = numpy.empty(4, dtype=numpy.int64) # WRONG! Sending to a larger buffer. The 32-bit integers will be intepreted as 64-bit integers.\n",
    "    comm.Recv(data, source=0, tag=13)\n",
    "    print(\"Rank %d.\" % rank, \"Received array:  \", data, flush=True)\n",
    "\n",
    "if rank == 0:\n",
    "    data = numpy.arange(4, dtype=numpy.int64)\n",
    "    comm.Send(data, dest=1, tag=13)\n",
    "    print(\"Rank %d.\" % rank, \"Array being sent:\", data, flush=True)\n",
    "elif rank == 1:\n",
    "    data = numpy.empty(4, dtype=numpy.int32) # WRONG! Sending to a smaller buffer. This throws an error luckily!\n",
    "    comm.Recv(data, source=0, tag=13)\n",
    "    print(\"Rank %d.\" % rank, \"Received array:  \", data, flush=True)"
   ]
  },
  {
   "cell_type": "code",
   "execution_count": 12,
   "id": "07a61e76-293f-49ee-9d65-e977917e5548",
   "metadata": {
    "collapsed": true,
    "jupyter": {
     "outputs_hidden": true,
     "source_hidden": true
    }
   },
   "outputs": [],
   "source": [
    "#!mpiexec -n 2 python3 temp.py"
   ]
  },
  {
   "cell_type": "markdown",
   "id": "336cf32b-cc04-42ca-9bb0-59e7e3a6f737",
   "metadata": {},
   "source": [
    "**Snippet 4 - Writing to the same memory/file**\n",
    "\n",
    "You really do not want multiple ranks writing to the same memory chunk and/or file at the same time since this will cause undefined behaviour (at the very least you won't know what is being written at the end).\n",
    "\n",
    "In interpreted languages, writing to the same memory chunk is hard to do so unless you are using a wrapped compiled language function you are at least safe from this behaviour. However, you are still allowed to write to the same file:\n",
    "\n",
    "```python\n",
    "# DO NOT RUN THIS\n",
    "from mpi4py import MPI\n",
    "import numpy as np\n",
    "\n",
    "comm = MPI.COMM_WORLD\n",
    "rank = comm.Get_rank()\n",
    "size = comm.Get_size()\n",
    "\n",
    "# EXTREMELY BAD IDEA!!!!\n",
    "with open(\"temp.txt\", \"w\") as f:\n",
    "      f.write(\"Rank %d has written!\" % rank)\n",
    "```\n",
    "\n",
    "If you really want to do this, check out the mpi4py [MPI I/O docs](https://mpi4py.readthedocs.io/en/stable/tutorial.html#input-output-mpi-io), the [h5py](https://www.h5py.org/) software, or the [ADIOS2](https://adios2.readthedocs.io/en/latest/) library."
   ]
  },
  {
   "cell_type": "markdown",
   "id": "a40cecd7-bc59-4dbc-a13e-7b6f9c961517",
   "metadata": {},
   "source": [
    "## Collective communication - <span style=\"color:red\">Back to the slides</span>.\n"
   ]
  },
  {
   "cell_type": "markdown",
   "id": "fe7dbcdc-4689-4f7d-86dc-7849b043b264",
   "metadata": {},
   "source": [
    "## Collective communication examples\n",
    "\n",
    "### One-to-all: Broadcast functions\n",
    "\n",
    "**Object broadcast**"
   ]
  },
  {
   "cell_type": "code",
   "execution_count": 13,
   "id": "94b8e67b-a314-49f6-ad12-2053316f3654",
   "metadata": {
    "collapsed": true,
    "jupyter": {
     "outputs_hidden": true,
     "source_hidden": true
    }
   },
   "outputs": [
    {
     "name": "stdout",
     "output_type": "stream",
     "text": [
      "Overwriting temp.py\n"
     ]
    }
   ],
   "source": [
    "%%writefile temp.py\n",
    "from mpi4py import MPI\n",
    "\n",
    "comm = MPI.COMM_WORLD\n",
    "size = comm.Get_size()\n",
    "rank = comm.Get_rank()\n",
    "\n",
    "data = None\n",
    "if rank == 0:\n",
    "    data = {'ciao' : 'bello'}\n",
    "\n",
    "data = comm.bcast(data, root=0)\n",
    "print(\"Rank %d\" % rank, \"Data = \", data, flush=True)"
   ]
  },
  {
   "cell_type": "code",
   "execution_count": 14,
   "id": "3b2ae64c-f1ae-42df-8630-68ac190de206",
   "metadata": {
    "collapsed": true,
    "jupyter": {
     "outputs_hidden": true,
     "source_hidden": true
    }
   },
   "outputs": [
    {
     "name": "stdout",
     "output_type": "stream",
     "text": [
      "Rank 0 Data =  {'ciao': 'bello'}\n",
      "Rank 2 Data =  {'ciao': 'bello'}\n",
      "Rank 1 Data =  {'ciao': 'bello'}\n"
     ]
    }
   ],
   "source": [
    "!mpiexec -n 3 python3 temp.py"
   ]
  },
  {
   "cell_type": "markdown",
   "id": "c1c7a709-8db6-4930-ab17-00469fc64308",
   "metadata": {},
   "source": [
    "**Buffer broadcast**"
   ]
  },
  {
   "cell_type": "code",
   "execution_count": 15,
   "id": "1b66997a-029a-42d6-b76d-c58784990a86",
   "metadata": {
    "collapsed": true,
    "jupyter": {
     "outputs_hidden": true,
     "source_hidden": true
    }
   },
   "outputs": [
    {
     "name": "stdout",
     "output_type": "stream",
     "text": [
      "Overwriting temp.py\n"
     ]
    }
   ],
   "source": [
    "%%writefile temp.py\n",
    "from mpi4py import MPI\n",
    "import numpy as np\n",
    "\n",
    "comm = MPI.COMM_WORLD\n",
    "size = comm.Get_size()\n",
    "rank = comm.Get_rank()\n",
    "\n",
    "if rank == 0:\n",
    "    data = np.arange(10, dtype=np.int64)\n",
    "else:\n",
    "    data = np.empty(10, dtype=np.int64)\n",
    "\n",
    "comm.Bcast(data, root=0)\n",
    "\n",
    "print(\"Rank %d\" % rank, \"Data = \", data, flush=True)"
   ]
  },
  {
   "cell_type": "code",
   "execution_count": 16,
   "id": "90b58011-272b-4f8d-b34b-82a61b302623",
   "metadata": {
    "collapsed": true,
    "jupyter": {
     "outputs_hidden": true,
     "source_hidden": true
    }
   },
   "outputs": [
    {
     "name": "stdout",
     "output_type": "stream",
     "text": [
      "Rank 0 Data =  [0 1 2 3 4 5 6 7 8 9]\n",
      "Rank 1 Data =  [0 1 2 3 4 5 6 7 8 9]\n",
      "Rank 2 Data =  [0 1 2 3 4 5 6 7 8 9]\n"
     ]
    }
   ],
   "source": [
    "!mpiexec -n 3 python3 temp.py"
   ]
  },
  {
   "cell_type": "markdown",
   "id": "6532bfcf-bf6c-4a9d-b9b3-d1f348481e1d",
   "metadata": {},
   "source": [
    "### One-to-all: Scatter functions\n",
    "\n",
    "**Object scatter**"
   ]
  },
  {
   "cell_type": "code",
   "execution_count": 17,
   "id": "494a61e2-e10a-48b2-9c2b-9de41a9bbf5e",
   "metadata": {
    "collapsed": true,
    "jupyter": {
     "outputs_hidden": true,
     "source_hidden": true
    }
   },
   "outputs": [
    {
     "name": "stdout",
     "output_type": "stream",
     "text": [
      "Overwriting temp.py\n"
     ]
    }
   ],
   "source": [
    "%%writefile temp.py\n",
    "from mpi4py import MPI\n",
    "\n",
    "comm = MPI.COMM_WORLD\n",
    "size = comm.Get_size()\n",
    "rank = comm.Get_rank()\n",
    "\n",
    "data = None\n",
    "if rank == 0:\n",
    "    data = [(i+1)**2 for i in range(size)]\n",
    "\n",
    "# object version\n",
    "data = comm.scatter(data, root=0) # root is the rank that sends the data\n",
    "\n",
    "assert data == (rank+1)**2 # checking that communication was done correctly"
   ]
  },
  {
   "cell_type": "code",
   "execution_count": 18,
   "id": "5be369d9-9846-49bc-8f9b-cecb9b566d1b",
   "metadata": {
    "collapsed": true,
    "jupyter": {
     "outputs_hidden": true,
     "source_hidden": true
    }
   },
   "outputs": [],
   "source": [
    "!mpiexec -n 3 python3 temp.py"
   ]
  },
  {
   "cell_type": "markdown",
   "id": "9d742788-a793-4134-93d6-2347dab0031c",
   "metadata": {},
   "source": [
    "**Vector/buffer scatter**"
   ]
  },
  {
   "cell_type": "code",
   "execution_count": 19,
   "id": "ede18b65-f628-42bb-b1c1-75bff940b4d6",
   "metadata": {
    "collapsed": true,
    "jupyter": {
     "outputs_hidden": true,
     "source_hidden": true
    }
   },
   "outputs": [
    {
     "name": "stdout",
     "output_type": "stream",
     "text": [
      "Overwriting temp.py\n"
     ]
    }
   ],
   "source": [
    "%%writefile temp.py\n",
    "from mpi4py import MPI\n",
    "import numpy as np\n",
    "\n",
    "comm = MPI.COMM_WORLD\n",
    "size = comm.Get_size()\n",
    "rank = comm.Get_rank()\n",
    "\n",
    "sendbuf = None\n",
    "if rank == 0:\n",
    "    sendbuf = np.empty([size, 10], dtype='i') # The array being sent has shape MPI_size-by-10\n",
    "    # initialising the array to be sent\n",
    "    for i in range(10):\n",
    "        sendbuf[:,i] = np.arange(size)\n",
    "\n",
    "# The array being received has length 10.\n",
    "recvbuf = np.empty(10, dtype='i') # need to define this on all ranks, even the sending rank!\n",
    "\n",
    "# Vector version with equal chunks being sent\n",
    "comm.Scatter(sendbuf, recvbuf, root = 0) # root is the rank that sends the data\n",
    "\n",
    "# checking that the communication was done correctly\n",
    "assert np.allclose(recvbuf, rank) # recvbuf will be a vector of values [rank, rank, rank, ....]\n",
    "\n",
    "# Note: arrays will always be split along the first axis so the first dimension must always be equal to MPI_size.\n",
    "# Note: There is also a Scatterv function which allows to send chunks of different sizes to different ranks.\n",
    "#       It is slightly more complicated to use."
   ]
  },
  {
   "cell_type": "code",
   "execution_count": 20,
   "id": "0f5cecd9-8cc2-4bea-8cee-ebee4ef7972b",
   "metadata": {
    "collapsed": true,
    "jupyter": {
     "outputs_hidden": true,
     "source_hidden": true
    }
   },
   "outputs": [],
   "source": [
    "!mpiexec -n 3 python3 temp.py"
   ]
  },
  {
   "cell_type": "markdown",
   "id": "a4310c6c-dc56-419a-a10e-ebc78eb50adb",
   "metadata": {},
   "source": [
    "### All-to-one: Gather"
   ]
  },
  {
   "cell_type": "markdown",
   "id": "99da05c8-4630-4d28-926e-8b5cb0e8521a",
   "metadata": {},
   "source": [
    "**Object version**"
   ]
  },
  {
   "cell_type": "code",
   "execution_count": 21,
   "id": "b3e48b15-a264-485c-99af-8fa4a95285d4",
   "metadata": {
    "collapsed": true,
    "jupyter": {
     "outputs_hidden": true,
     "source_hidden": true
    }
   },
   "outputs": [
    {
     "name": "stdout",
     "output_type": "stream",
     "text": [
      "Overwriting temp.py\n"
     ]
    }
   ],
   "source": [
    "%%writefile temp.py\n",
    "from mpi4py import MPI\n",
    "import numpy as np\n",
    "\n",
    "comm = MPI.COMM_WORLD\n",
    "size = comm.Get_size()\n",
    "rank = comm.Get_rank()\n",
    "\n",
    "data = rank**2\n",
    "data = comm.gather(data, root=0)\n",
    "if rank == 0:\n",
    "    for i in range(size):\n",
    "        assert data[i] == i**2\n",
    "else:\n",
    "    assert data is None"
   ]
  },
  {
   "cell_type": "code",
   "execution_count": 22,
   "id": "36f2648f-b98e-4fcd-9eba-433783f2c5b7",
   "metadata": {
    "collapsed": true,
    "jupyter": {
     "outputs_hidden": true,
     "source_hidden": true
    }
   },
   "outputs": [],
   "source": [
    "!mpiexec -n 3 python3 temp.py"
   ]
  },
  {
   "cell_type": "markdown",
   "id": "c4c72efa-eefb-43da-b2b2-672009a7182e",
   "metadata": {},
   "source": [
    "**Buffer/numpy version**"
   ]
  },
  {
   "cell_type": "code",
   "execution_count": 23,
   "id": "44647eaa-a866-4bda-8822-842fd641bea6",
   "metadata": {
    "collapsed": true,
    "jupyter": {
     "outputs_hidden": true,
     "source_hidden": true
    }
   },
   "outputs": [
    {
     "name": "stdout",
     "output_type": "stream",
     "text": [
      "Overwriting temp.py\n"
     ]
    }
   ],
   "source": [
    "%%writefile temp.py\n",
    "from mpi4py import MPI\n",
    "import numpy as np\n",
    "\n",
    "comm = MPI.COMM_WORLD\n",
    "size = comm.Get_size()\n",
    "rank = comm.Get_rank()\n",
    "\n",
    "sendbuf = rank*np.ones(10, dtype=np.int64)\n",
    "recvbuf = None\n",
    "\n",
    "if rank == 0:\n",
    "    recvbuf = np.empty([size, 10], dtype=np.int64)\n",
    "\n",
    "comm.Gather(sendbuf, recvbuf, root=0)\n",
    "\n",
    "if rank == 0:\n",
    "    assert np.allclose(recvbuf.T, np.arange(size))"
   ]
  },
  {
   "cell_type": "code",
   "execution_count": 24,
   "id": "16da3eeb-6f70-4f27-9314-6c7b4be3639b",
   "metadata": {
    "collapsed": true,
    "jupyter": {
     "outputs_hidden": true,
     "source_hidden": true
    }
   },
   "outputs": [],
   "source": [
    "!mpiexec -n 3 python3 temp.py"
   ]
  },
  {
   "cell_type": "markdown",
   "id": "e5acfb3a-e1dd-450c-8c88-bf5cf686365a",
   "metadata": {},
   "source": [
    "### All-to-one: Reduce\n",
    "\n",
    "**Available reduce operations**\n",
    "\n",
    "```python\n",
    "from mpi4py import MPI\n",
    "\n",
    "MPI.MAX # maximum\n",
    "MPI.MIN # minimum\n",
    "MPI.SUM # sum\n",
    "MPI.PROD # product\n",
    "MPI.LAND # logical and\n",
    "MPI.BAND # bit-wise and\n",
    "MPI.LOR # logical or\n",
    "MPI.BOR # bit-wise or\n",
    "MPI.LXOR # logical xor\n",
    "MPI.BXOR # bit-wise xor\n",
    "MPI.MAXLOC # max value and its location\n",
    "MPI.MINLOC # min value and its location\n",
    "```"
   ]
  },
  {
   "cell_type": "markdown",
   "id": "6f2aec6c-36d0-4613-864e-6da85096688d",
   "metadata": {},
   "source": [
    "**Custom reduce operation (ADVANCED and OPTIONAL. Presented for completeness)**"
   ]
  },
  {
   "cell_type": "code",
   "execution_count": 25,
   "id": "63c47e49-e0c6-4861-ae8e-57a17bc80f0e",
   "metadata": {
    "collapsed": true,
    "jupyter": {
     "outputs_hidden": true,
     "source_hidden": true
    }
   },
   "outputs": [
    {
     "name": "stdout",
     "output_type": "stream",
     "text": [
      "Overwriting temp.py\n"
     ]
    }
   ],
   "source": [
    "%%writefile temp.py\n",
    "import numpy as np\n",
    "from mpi4py import MPI\n",
    "\n",
    "comm = MPI.COMM_WORLD\n",
    "size = comm.Get_size()\n",
    "rank = comm.Get_rank()\n",
    "\n",
    "# create numpy arrays to reduce\n",
    "src = (rank+3)*np.arange(1,6)\n",
    "dst = np.zeros_like(src)\n",
    "\n",
    "print(\"Rank %d. Initial array:\" % rank, src, flush=True)\n",
    "\n",
    "def myadd(xmem, ymem, dt):\n",
    "    # here xmem and ymem are modifiable memory buffers.\n",
    "    # we can treat them like numpy arrays as follows\n",
    "    x = np.frombuffer(xmem, dtype=src.dtype)\n",
    "    y = np.frombuffer(ymem, dtype=src.dtype)\n",
    "    # if we modify what's inside x and y, then xmem and ymem\n",
    "    # will also be modified.\n",
    "\n",
    "    z = x + y\n",
    "\n",
    "    print(\"Rank %d. Reduction: %s + %s = %s\" % (rank, x, y, z), flush=True)\n",
    "\n",
    "    # ymem is the output of the reduction.\n",
    "    # Need to use [:] to access the underlying memory\n",
    "    # Otherwise y will simply be a pointer to the memory underlying z\n",
    "    y[:] = z\n",
    "\n",
    "op = MPI.Op.Create(myadd, commute=True)\n",
    "\n",
    "comm.Reduce(src, dst, op=op, root=0)\n",
    "\n",
    "if rank == 0:\n",
    "    print(\"\\nANSWER:\\n %s\" % dst, flush=True)"
   ]
  },
  {
   "cell_type": "code",
   "execution_count": 26,
   "id": "16263103-7d5c-4cf9-ab75-634afb5a880c",
   "metadata": {
    "collapsed": true,
    "jupyter": {
     "outputs_hidden": true,
     "source_hidden": true
    }
   },
   "outputs": [
    {
     "name": "stdout",
     "output_type": "stream",
     "text": [
      "Rank 3. Initial array: [ 6 12 18 24 30]\n",
      "Rank 0. Initial array: [ 3  6  9 12 15]\n",
      "Rank 1. Initial array: [ 4  8 12 16 20]\n",
      "Rank 0. Reduction: [ 4  8 12 16 20] + [ 3  6  9 12 15] = [ 7 14 21 28 35]\n",
      "Rank 2. Initial array: [ 5 10 15 20 25]\n",
      "Rank 2. Reduction: [ 6 12 18 24 30] + [ 5 10 15 20 25] = [11 22 33 44 55]\n",
      "Rank 0. Reduction: [11 22 33 44 55] + [ 7 14 21 28 35] = [18 36 54 72 90]\n",
      "\n",
      "ANSWER:\n",
      " [18 36 54 72 90]\n"
     ]
    }
   ],
   "source": [
    "!mpiexec -n 4 python3 temp.py"
   ]
  },
  {
   "cell_type": "markdown",
   "id": "9ea6e61a-c341-4051-a5f3-499f519ab3df",
   "metadata": {},
   "source": [
    "**Object version**"
   ]
  },
  {
   "cell_type": "code",
   "execution_count": 27,
   "id": "e9402451-52e4-45a9-a225-cbd31dfe85e9",
   "metadata": {
    "collapsed": true,
    "jupyter": {
     "outputs_hidden": true,
     "source_hidden": true
    }
   },
   "outputs": [
    {
     "name": "stdout",
     "output_type": "stream",
     "text": [
      "Overwriting temp.py\n"
     ]
    }
   ],
   "source": [
    "%%writefile temp.py\n",
    "import numpy as np\n",
    "from mpi4py import MPI\n",
    "\n",
    "comm = MPI.COMM_WORLD\n",
    "size = comm.Get_size()\n",
    "rank = comm.Get_rank()\n",
    "\n",
    "data = rank\n",
    "\n",
    "# need to use pre-built MPI operation (see above for list of available ops)\n",
    "ranksum = None\n",
    "ranksum = comm.reduce(data, op=MPI.SUM, root=0)\n",
    "\n",
    "if rank == 0:\n",
    "    assert ranksum == (size*(size-1))//2"
   ]
  },
  {
   "cell_type": "code",
   "execution_count": 28,
   "id": "6c0db622-40b5-4b55-8036-e37fae25c831",
   "metadata": {
    "collapsed": true,
    "jupyter": {
     "outputs_hidden": true,
     "source_hidden": true
    }
   },
   "outputs": [],
   "source": [
    "!mpiexec -n 4 python3 temp.py"
   ]
  },
  {
   "cell_type": "markdown",
   "id": "10152e63-dd4a-44f1-8d51-fbe2acb079e9",
   "metadata": {},
   "source": [
    "**Buffer/numpy version**"
   ]
  },
  {
   "cell_type": "code",
   "execution_count": 29,
   "id": "9a995745-5f49-46ee-ab0d-52868c4ca420",
   "metadata": {
    "collapsed": true,
    "jupyter": {
     "outputs_hidden": true,
     "source_hidden": true
    }
   },
   "outputs": [
    {
     "name": "stdout",
     "output_type": "stream",
     "text": [
      "Overwriting temp.py\n"
     ]
    }
   ],
   "source": [
    "%%writefile temp.py\n",
    "import numpy as np\n",
    "from mpi4py import MPI\n",
    "\n",
    "comm = MPI.COMM_WORLD\n",
    "size = comm.Get_size()\n",
    "rank = comm.Get_rank()\n",
    "\n",
    "sendbuf = np.arange(3, dtype=np.int64)\n",
    "recvbuf = None\n",
    "\n",
    "if rank == 0:\n",
    "    recvbuf = np.empty(3, dtype=np.int64)\n",
    "    \n",
    "comm.Reduce(sendbuf, recvbuf, op=MPI.PROD, root=0)\n",
    "\n",
    "if rank == 0:\n",
    "    assert np.allclose(recvbuf, np.arange(3)**size)\n",
    "else:\n",
    "    assert recvbuf is None"
   ]
  },
  {
   "cell_type": "code",
   "execution_count": 30,
   "id": "3c767dec-a69a-487d-8fc7-8a14ebbc521f",
   "metadata": {
    "collapsed": true,
    "jupyter": {
     "outputs_hidden": true,
     "source_hidden": true
    }
   },
   "outputs": [],
   "source": [
    "!mpiexec -n 4 python3 temp.py"
   ]
  },
  {
   "cell_type": "markdown",
   "id": "401c92ab-b6d8-4e7a-9c7d-080ea77a6248",
   "metadata": {},
   "source": [
    "### All-to-all: Allgather"
   ]
  },
  {
   "cell_type": "code",
   "execution_count": 31,
   "id": "dd9c1dc8-0995-4fbb-b74a-679ea2d579e7",
   "metadata": {
    "collapsed": true,
    "jupyter": {
     "outputs_hidden": true,
     "source_hidden": true
    }
   },
   "outputs": [
    {
     "name": "stdout",
     "output_type": "stream",
     "text": [
      "Overwriting temp.py\n"
     ]
    }
   ],
   "source": [
    "%%writefile temp.py\n",
    "from mpi4py import MPI\n",
    "import numpy as np\n",
    "\n",
    "comm = MPI.COMM_WORLD\n",
    "size = comm.Get_size()\n",
    "rank = comm.Get_rank()\n",
    "\n",
    "# Showing only the object version. Buffer version is the same.\n",
    "# This is exactly the same as gather, but now all ranks will have the result\n",
    "# Therefore, there is so no need to specify a root.\n",
    "data = rank**2\n",
    "data = comm.allgather(data)\n",
    "for i in range(size):\n",
    "    assert data[i] == i**2"
   ]
  },
  {
   "cell_type": "code",
   "execution_count": 32,
   "id": "406982cb-263d-40dc-8e3e-b95dd5fea4d8",
   "metadata": {
    "collapsed": true,
    "jupyter": {
     "outputs_hidden": true,
     "source_hidden": true
    }
   },
   "outputs": [],
   "source": [
    "!mpiexec -n 3 python3 temp.py"
   ]
  },
  {
   "cell_type": "markdown",
   "id": "a83eb94e-7cae-4fd8-9b28-cbd476f5b89e",
   "metadata": {},
   "source": [
    "### All-to-all: Allreduce"
   ]
  },
  {
   "cell_type": "code",
   "execution_count": 33,
   "id": "3b204426-7a98-4ca0-8e29-c0ad3b588f20",
   "metadata": {
    "collapsed": true,
    "jupyter": {
     "outputs_hidden": true,
     "source_hidden": true
    }
   },
   "outputs": [
    {
     "name": "stdout",
     "output_type": "stream",
     "text": [
      "Overwriting temp.py\n"
     ]
    }
   ],
   "source": [
    "%%writefile temp.py\n",
    "import numpy as np\n",
    "from mpi4py import MPI\n",
    "\n",
    "comm = MPI.COMM_WORLD\n",
    "size = comm.Get_size()\n",
    "rank = comm.Get_rank()\n",
    "\n",
    "data = rank\n",
    "\n",
    "# Showing only the object version. Buffer version is the same.\n",
    "# This is exactly the same as reduce, but now all ranks will have the result\n",
    "# Therefore, there is so no need to specify a root.\n",
    "ranksum = None\n",
    "ranksum = comm.allreduce(data, op=MPI.SUM)\n",
    "\n",
    "assert ranksum == (size*(size-1))//2"
   ]
  },
  {
   "cell_type": "code",
   "execution_count": 34,
   "id": "cc2838ad-f799-482a-afb7-c4f115b4eeaf",
   "metadata": {
    "collapsed": true,
    "jupyter": {
     "outputs_hidden": true,
     "source_hidden": true
    }
   },
   "outputs": [],
   "source": [
    "!mpiexec -n 3 python3 temp.py"
   ]
  },
  {
   "cell_type": "markdown",
   "id": "d7f40cf3-d721-4f7b-836d-2259f9369322",
   "metadata": {},
   "source": [
    "### All-to-all: Alltoall"
   ]
  },
  {
   "cell_type": "code",
   "execution_count": 35,
   "id": "56b3e957-68e6-4aa6-abf1-76f341f4bbd7",
   "metadata": {
    "collapsed": true,
    "jupyter": {
     "outputs_hidden": true,
     "source_hidden": true
    }
   },
   "outputs": [
    {
     "name": "stdout",
     "output_type": "stream",
     "text": [
      "Overwriting temp.py\n"
     ]
    }
   ],
   "source": [
    "%%writefile temp.py\n",
    "import numpy as np\n",
    "from mpi4py import MPI\n",
    "\n",
    "comm = MPI.COMM_WORLD\n",
    "size = comm.Get_size()\n",
    "rank = comm.Get_rank()\n",
    "\n",
    "A = np.arange(3*size).reshape((size, 3))\n",
    "\n",
    "a = A[rank,:]\n",
    "\n",
    "if rank == 0:\n",
    "    print(\"Initial matrix:\\n\", A, \"\\n\", flush=True)\n",
    "\n",
    "B = comm.alltoall(A)\n",
    "B = np.vstack(B)\n",
    "\n",
    "print(\"Rank %d\\n\" % rank, \"received matrix =\\n\", B, flush=True)"
   ]
  },
  {
   "cell_type": "code",
   "execution_count": 36,
   "id": "9212b860-709c-4ce6-8663-bcc8ec43bbb6",
   "metadata": {
    "collapsed": true,
    "jupyter": {
     "outputs_hidden": true,
     "source_hidden": true
    }
   },
   "outputs": [
    {
     "name": "stdout",
     "output_type": "stream",
     "text": [
      "Initial matrix:\n",
      " [[ 0  1  2]\n",
      " [ 3  4  5]\n",
      " [ 6  7  8]\n",
      " [ 9 10 11]] \n",
      "\n",
      "Rank 0\n",
      " received matrix =\n",
      " [[0 1 2]\n",
      " [0 1 2]\n",
      " [0 1 2]\n",
      " [0 1 2]]\n",
      "Rank 1\n",
      " received matrix =\n",
      " [[3 4 5]\n",
      " [3 4 5]\n",
      " [3 4 5]\n",
      " [3 4 5]]\n",
      "Rank 2\n",
      " received matrix =\n",
      " [[6 7 8]\n",
      " [6 7 8]\n",
      " [6 7 8]\n",
      " [6 7 8]]\n",
      "Rank 3\n",
      " received matrix =\n",
      " [[ 9 10 11]\n",
      " [ 9 10 11]\n",
      " [ 9 10 11]\n",
      " [ 9 10 11]]\n"
     ]
    }
   ],
   "source": [
    "!mpiexec -n 4 python3 temp.py"
   ]
  },
  {
   "cell_type": "markdown",
   "id": "a53ffe8d-a455-413e-b9c1-659e1ad2db81",
   "metadata": {},
   "source": [
    "### A common collective communication mistake causing Deadlock\n",
    "\n",
    "Keep in mind that all collective communication will require synchronization between all ranks (a bit like a barrier). If a rank never makes it for whatever reason, deadlock will occur!"
   ]
  },
  {
   "cell_type": "code",
   "execution_count": 37,
   "id": "e120f5cc-ef60-4d91-b6cf-4e05cf2ff699",
   "metadata": {
    "collapsed": true,
    "jupyter": {
     "outputs_hidden": true,
     "source_hidden": true
    }
   },
   "outputs": [
    {
     "name": "stdout",
     "output_type": "stream",
     "text": [
      "Overwriting temp.py\n"
     ]
    }
   ],
   "source": [
    "%%writefile temp.py\n",
    "import numpy as np\n",
    "from mpi4py import MPI\n",
    "\n",
    "comm = MPI.COMM_WORLD\n",
    "size = comm.Get_size()\n",
    "rank = comm.Get_rank()\n",
    "\n",
    "data = rank\n",
    "\n",
    "# This is the same as the allreduce example.\n",
    "# However, say we do some computation\n",
    "# before calling allreduce that\n",
    "# causes an error only on a single rank:\n",
    "if rank == 1:\n",
    "    raise RuntimeError(\"Rank 1 got it wrong!\")\n",
    "\n",
    "# Since Rank 1 will stop executing code upon error\n",
    "# the subsequent time allreduce is called will\n",
    "# cause a deadlock!\n",
    "ranksum = None\n",
    "ranksum = comm.allreduce(data, op=MPI.SUM)\n",
    "\n",
    "# Note that it may even happen that the error\n",
    "# message never makes it to stdout so that\n",
    "# you may not even realise an error has occured!\n",
    "\n",
    "assert ranksum == (size*(size-1))//2"
   ]
  },
  {
   "cell_type": "code",
   "execution_count": 38,
   "id": "1db468a6-a42f-4369-bebd-fb0f8e92a89b",
   "metadata": {
    "collapsed": true,
    "jupyter": {
     "outputs_hidden": true,
     "source_hidden": true
    }
   },
   "outputs": [],
   "source": [
    "#!mpiexec -n 3 python3 temp.py # commenting this out since it will cause deadlock"
   ]
  }
 ],
 "metadata": {
  "kernelspec": {
   "display_name": "Python 3 (ipykernel)",
   "language": "python",
   "name": "python3"
  },
  "language_info": {
   "codemirror_mode": {
    "name": "ipython",
    "version": 3
   },
   "file_extension": ".py",
   "mimetype": "text/x-python",
   "name": "python",
   "nbconvert_exporter": "python",
   "pygments_lexer": "ipython3",
   "version": "3.12.6"
  }
 },
 "nbformat": 4,
 "nbformat_minor": 5
}
